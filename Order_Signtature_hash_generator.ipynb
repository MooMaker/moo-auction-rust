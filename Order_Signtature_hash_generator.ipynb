{
 "cells": [
  {
   "cell_type": "code",
   "execution_count": 20,
   "id": "1d07a77f",
   "metadata": {},
   "outputs": [
    {
     "name": "stdout",
     "output_type": "stream",
     "text": [
      "<bound method HexBytes.hex of HexBytes('0xc0dc0a30bd10fc234c1ca465c52720d857dc2dc275b1c886043d32d8ae812ea44e808339a19b35125244649fe91ebf4e3d7475b5ff2faffe31682065eeb482a91b')>\n"
     ]
    }
   ],
   "source": [
    "#!pip install web3"
   ]
  },
  {
   "cell_type": "code",
   "execution_count": 48,
   "id": "38ffcf19",
   "metadata": {},
   "outputs": [
    {
     "name": "stdout",
     "output_type": "stream",
     "text": [
      "0142ee3ec957d60517347740f90a68051cdfc69b772417d248416811d2f9ce9e\n",
      "Signature: 0xb185119cf09826d8d5a43c537074d12fa054d90a3acfbdb21cec9d45b02f2c477e3e3cc143f32f0195db070f8f810d20f10f641d8104f343e4c1e595dd5407ea1b\n"
     ]
    }
   ],
   "source": [
    "from eth_account import Account\n",
    "from eth_utils import keccak\n",
    "import json\n",
    "\n",
    "def sign_order(private_key, order):\n",
    "    # Define the EIP-712 domain separator\n",
    "    domain_separator = {\n",
    "        'name': 'SignatureVerifier',\n",
    "        'version': '1.0.0',\n",
    "        'chainId': 1,  # Ethereum mainnet chain ID\n",
    "        'verifyingContract': '0x1c91347f2A44538ce62453BEBd9Aa907C662b4bD'  # Address of the contract\n",
    "    }\n",
    "\n",
    "    # Convert bytes to a list of integers\n",
    "    uid_list = list(order['uid'])\n",
    "\n",
    "    # Define the EIP-712 order structure\n",
    "    order_structure = [\n",
    "        {'name': 'tokenIn', 'type': 'address', 'value': order['tokenIn']},\n",
    "        {'name': 'amountIn', 'type': 'uint256', 'value': str(order['amountIn'])},\n",
    "        {'name': 'tokenOut', 'type': 'address', 'value': order['tokenOut']},\n",
    "        {'name': 'amountOut', 'type': 'uint256', 'value': str(order['amountOut'])},\n",
    "        {'name': 'validTo', 'type': 'uint256', 'value': str(order['validTo'])},\n",
    "        {'name': 'maker', 'type': 'address', 'value': order['maker']},\n",
    "        {'name': 'uid', 'type': 'bytes', 'value': uid_list},\n",
    "    ]\n",
    "\n",
    "    # Calculate the hash of the domain separator and order\n",
    "    domain_separator_hash = keccak(json.dumps(domain_separator, sort_keys=True).encode('utf-8')).hex()\n",
    "    order_hash = keccak(json.dumps({'types': {'EIP712Domain': domain_separator, 'Order': order_structure}, 'primaryType': 'Order', 'domain': domain_separator, 'message': order}, sort_keys=True).encode('utf-8')).hex()\n",
    "    \n",
    "    print(order_hash)\n",
    "    # Sign the order hash with the private key\n",
    "    signed_order = Account.signHash(order_hash, private_key)\n",
    "\n",
    "    return signed_order.signature.hex()\n",
    "\n",
    "\n",
    "# Example usage\n",
    "private_key = 'c566a08f7be78ba35ce8da6be052917a3a8d1ec22011808a30184a00b727a777'\n",
    "order = {\n",
    "    'tokenIn': '0x6778ac35e1c9aca22a8d7d820577212a89544df9',\n",
    "    'amountIn': 100000000000000000,\n",
    "    'tokenOut': '0xb4fbf271143f4fbf7b91a5ded31805e42b2208d6',\n",
    "    'amountOut': 1000000000000000000,\n",
    "    'validTo': 1747179215,  # Unix timestamp representing the expiration date/time\n",
    "    'maker': '0x40Eb9614Ba89633B6D0e9fD8177E86D5971CD596',\n",
    "    'uid': '0x5B38Da6a701c568545dCfcB03FcB875f56beddC4'  # Example UID as bytes\n",
    "}\n",
    "\n",
    "signature = sign_order(private_key, order)\n",
    "print('Signature:', signature)"
   ]
  }
 ],
 "metadata": {
  "kernelspec": {
   "display_name": "Python 3 (ipykernel)",
   "language": "python",
   "name": "python3"
  },
  "language_info": {
   "codemirror_mode": {
    "name": "ipython",
    "version": 3
   },
   "file_extension": ".py",
   "mimetype": "text/x-python",
   "name": "python",
   "nbconvert_exporter": "python",
   "pygments_lexer": "ipython3",
   "version": "3.10.9"
  }
 },
 "nbformat": 4,
 "nbformat_minor": 5
}
